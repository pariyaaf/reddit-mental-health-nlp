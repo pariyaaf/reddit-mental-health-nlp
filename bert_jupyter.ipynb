{
 "cells": [
  {
   "cell_type": "code",
   "execution_count": 1,
   "metadata": {
    "colab": {
     "base_uri": "https://localhost:8080/"
    },
    "id": "6sexDqKnvyoq",
    "outputId": "f833a721-b0c5-4ad0-8091-89cdb2cc7296"
   },
   "outputs": [
    {
     "name": "stdout",
     "output_type": "stream",
     "text": [
      "Collecting spacy\n",
      "  Using cached spacy-3.8.2.tar.gz (1.3 MB)\n",
      "  Installing build dependencies: started\n",
      "  Installing build dependencies: still running...\n",
      "  Installing build dependencies: finished with status 'error'\n"
     ]
    },
    {
     "name": "stderr",
     "output_type": "stream",
     "text": [
      "  ERROR: Command errored out with exit status 1:\n",
      "   command: 'C:\\ProgramData\\Anaconda3\\python.exe' 'C:\\ProgramData\\Anaconda3\\lib\\site-packages\\pip' install --ignore-installed --no-user --prefix 'C:\\Users\\ASUS\\AppData\\Local\\Temp\\pip-build-env-k_nurwe8\\overlay' --no-warn-script-location --no-binary :none: --only-binary :none: -i https://pypi.org/simple -- setuptools 'cython>=0.25,<3.0' 'cymem>=2.0.2,<2.1.0' 'preshed>=3.0.2,<3.1.0' 'murmurhash>=0.28.0,<1.1.0' 'thinc>=8.3.0,<8.4.0' 'numpy>=2.0.0,<2.1.0; python_version < '\"'\"'3.9'\"'\"'' 'numpy>=2.0.0,<2.1.0; python_version >= '\"'\"'3.9'\"'\"''\n",
      "       cwd: None\n",
      "  Complete output (73 lines):\n",
      "  Ignoring numpy: markers 'python_version >= \"3.9\"' don't match your environment\n",
      "  Collecting setuptools\n",
      "    Using cached setuptools-75.3.2-py3-none-any.whl (1.3 MB)\n",
      "  Collecting cython<3.0,>=0.25\n",
      "    Using cached Cython-0.29.37-py2.py3-none-any.whl (989 kB)\n",
      "  Collecting cymem<2.1.0,>=2.0.2\n",
      "    Using cached cymem-2.0.11.tar.gz (10 kB)\n",
      "    Installing build dependencies: started\n",
      "    Installing build dependencies: finished with status 'done'\n",
      "    Getting requirements to build wheel: started\n",
      "    Getting requirements to build wheel: finished with status 'done'\n",
      "      Preparing wheel metadata: started\n",
      "      Preparing wheel metadata: finished with status 'done'\n",
      "  Collecting preshed<3.1.0,>=3.0.2\n",
      "    Using cached preshed-3.0.9-cp38-cp38-win_amd64.whl (122 kB)\n",
      "  Collecting murmurhash<1.1.0,>=0.28.0\n",
      "    Using cached murmurhash-1.0.12.tar.gz (13 kB)\n",
      "    Installing build dependencies: started\n",
      "    Installing build dependencies: finished with status 'done'\n",
      "    Getting requirements to build wheel: started\n",
      "    Getting requirements to build wheel: finished with status 'done'\n",
      "      Preparing wheel metadata: started\n",
      "      Preparing wheel metadata: finished with status 'done'\n",
      "  Collecting thinc<8.4.0,>=8.3.0\n",
      "    Using cached thinc-8.3.2.tar.gz (193 kB)\n",
      "    Installing build dependencies: started\n",
      "    Installing build dependencies: still running...\n",
      "    Installing build dependencies: finished with status 'error'\n",
      "    ERROR: Command errored out with exit status 1:\n",
      "     command: 'C:\\ProgramData\\Anaconda3\\python.exe' 'C:\\ProgramData\\Anaconda3\\lib\\site-packages\\pip' install --ignore-installed --no-user --prefix 'C:\\Users\\ASUS\\AppData\\Local\\Temp\\pip-build-env-68v8wtnr\\overlay' --no-warn-script-location --no-binary :none: --only-binary :none: -i https://pypi.org/simple -- setuptools 'cython>=0.25,<3.0' 'murmurhash>=1.0.2,<1.1.0' 'cymem>=2.0.2,<2.1.0' 'preshed>=3.0.2,<3.1.0' 'blis>=1.0.0,<1.1.0' 'numpy>=2.0.0,<2.1.0; python_version < '\"'\"'3.9'\"'\"'' 'numpy>=2.0.0,<2.1.0; python_version >= '\"'\"'3.9'\"'\"''\n",
      "         cwd: None\n",
      "    Complete output (39 lines):\n",
      "    Ignoring numpy: markers 'python_version >= \"3.9\"' don't match your environment\n",
      "    Collecting setuptools\n",
      "      Using cached setuptools-75.3.2-py3-none-any.whl (1.3 MB)\n",
      "    Collecting cython<3.0,>=0.25\n",
      "      Using cached Cython-0.29.37-py2.py3-none-any.whl (989 kB)\n",
      "    Collecting murmurhash<1.1.0,>=1.0.2\n",
      "      Using cached murmurhash-1.0.12.tar.gz (13 kB)\n",
      "      Installing build dependencies: started\n",
      "      Installing build dependencies: finished with status 'done'\n",
      "      Getting requirements to build wheel: started\n",
      "      Getting requirements to build wheel: finished with status 'done'\n",
      "        Preparing wheel metadata: started\n",
      "        Preparing wheel metadata: finished with status 'done'\n",
      "    Collecting cymem<2.1.0,>=2.0.2\n",
      "      Using cached cymem-2.0.11.tar.gz (10 kB)\n",
      "      Installing build dependencies: started\n",
      "      Installing build dependencies: finished with status 'done'\n",
      "      Getting requirements to build wheel: started\n",
      "      Getting requirements to build wheel: finished with status 'done'\n",
      "        Preparing wheel metadata: started\n",
      "        Preparing wheel metadata: finished with status 'done'\n",
      "    Collecting preshed<3.1.0,>=3.0.2\n",
      "      Using cached preshed-3.0.9-cp38-cp38-win_amd64.whl (122 kB)\n",
      "    Collecting blis<1.1.0,>=1.0.0\n",
      "      Using cached blis-1.0.2.tar.gz (3.6 MB)\n",
      "      Installing build dependencies: started\n",
      "      Installing build dependencies: finished with status 'error'\n",
      "      ERROR: Command errored out with exit status 1:\n",
      "       command: 'C:\\ProgramData\\Anaconda3\\python.exe' 'C:\\ProgramData\\Anaconda3\\lib\\site-packages\\pip' install --ignore-installed --no-user --prefix 'C:\\Users\\ASUS\\AppData\\Local\\Temp\\pip-build-env-3qo9qzck\\overlay' --no-warn-script-location --no-binary :none: --only-binary :none: -i https://pypi.org/simple -- setuptools 'cython>=0.25' 'numpy>=2.0.0,<3.0.0'\n",
      "           cwd: None\n",
      "      Complete output (6 lines):\n",
      "      Collecting setuptools\n",
      "        Using cached setuptools-75.3.2-py3-none-any.whl (1.3 MB)\n",
      "      Collecting cython>=0.25\n",
      "        Using cached cython-3.1.1-cp38-cp38-win_amd64.whl (2.7 MB)\n",
      "      ERROR: Could not find a version that satisfies the requirement numpy<3.0.0,>=2.0.0 (from versions: 1.3.0, 1.4.1, 1.5.0, 1.5.1, 1.6.0, 1.6.1, 1.6.2, 1.7.0, 1.7.1, 1.7.2, 1.8.0, 1.8.1, 1.8.2, 1.9.0, 1.9.1, 1.9.2, 1.9.3, 1.10.0.post2, 1.10.1, 1.10.2, 1.10.4, 1.11.0, 1.11.1, 1.11.2, 1.11.3, 1.12.0, 1.12.1, 1.13.0, 1.13.1, 1.13.3, 1.14.0, 1.14.1, 1.14.2, 1.14.3, 1.14.4, 1.14.5, 1.14.6, 1.15.0, 1.15.1, 1.15.2, 1.15.3, 1.15.4, 1.16.0, 1.16.1, 1.16.2, 1.16.3, 1.16.4, 1.16.5, 1.16.6, 1.17.0, 1.17.1, 1.17.2, 1.17.3, 1.17.4, 1.17.5, 1.18.0, 1.18.1, 1.18.2, 1.18.3, 1.18.4, 1.18.5, 1.19.0, 1.19.1, 1.19.2, 1.19.3, 1.19.4, 1.19.5, 1.20.0, 1.20.1, 1.20.2, 1.20.3, 1.21.0, 1.21.1, 1.21.2, 1.21.3, 1.21.4, 1.21.5, 1.21.6, 1.22.0, 1.22.1, 1.22.2, 1.22.3, 1.22.4, 1.23.0, 1.23.1, 1.23.2, 1.23.3, 1.23.4, 1.23.5, 1.24.0, 1.24.1, 1.24.2, 1.24.3, 1.24.4)\n",
      "      ERROR: No matching distribution found for numpy<3.0.0,>=2.0.0\n",
      "      ----------------------------------------\n",
      "    ERROR: Command errored out with exit status 1: 'C:\\ProgramData\\Anaconda3\\python.exe' 'C:\\ProgramData\\Anaconda3\\lib\\site-packages\\pip' install --ignore-installed --no-user --prefix 'C:\\Users\\ASUS\\AppData\\Local\\Temp\\pip-build-env-3qo9qzck\\overlay' --no-warn-script-location --no-binary :none: --only-binary :none: -i https://pypi.org/simple -- setuptools 'cython>=0.25' 'numpy>=2.0.0,<3.0.0' Check the logs for full command output.\n",
      "    ----------------------------------------\n",
      "  ERROR: Command errored out with exit status 1: 'C:\\ProgramData\\Anaconda3\\python.exe' 'C:\\ProgramData\\Anaconda3\\lib\\site-packages\\pip' install --ignore-installed --no-user --prefix 'C:\\Users\\ASUS\\AppData\\Local\\Temp\\pip-build-env-68v8wtnr\\overlay' --no-warn-script-location --no-binary :none: --only-binary :none: -i https://pypi.org/simple -- setuptools 'cython>=0.25,<3.0' 'murmurhash>=1.0.2,<1.1.0' 'cymem>=2.0.2,<2.1.0' 'preshed>=3.0.2,<3.1.0' 'blis>=1.0.0,<1.1.0' 'numpy>=2.0.0,<2.1.0; python_version < '\"'\"'3.9'\"'\"'' 'numpy>=2.0.0,<2.1.0; python_version >= '\"'\"'3.9'\"'\"'' Check the logs for full command output.\n",
      "  ----------------------------------------\n",
      "ERROR: Command errored out with exit status 1: 'C:\\ProgramData\\Anaconda3\\python.exe' 'C:\\ProgramData\\Anaconda3\\lib\\site-packages\\pip' install --ignore-installed --no-user --prefix 'C:\\Users\\ASUS\\AppData\\Local\\Temp\\pip-build-env-k_nurwe8\\overlay' --no-warn-script-location --no-binary :none: --only-binary :none: -i https://pypi.org/simple -- setuptools 'cython>=0.25,<3.0' 'cymem>=2.0.2,<2.1.0' 'preshed>=3.0.2,<3.1.0' 'murmurhash>=0.28.0,<1.1.0' 'thinc>=8.3.0,<8.4.0' 'numpy>=2.0.0,<2.1.0; python_version < '\"'\"'3.9'\"'\"'' 'numpy>=2.0.0,<2.1.0; python_version >= '\"'\"'3.9'\"'\"'' Check the logs for full command output.\n",
      "C:\\ProgramData\\Anaconda3\\python.exe: No module named spacy\n"
     ]
    }
   ],
   "source": [
    "!pip install -U spacy\n",
    "!python -m spacy download en_core_web_sm"
   ]
  },
  {
   "cell_type": "code",
   "execution_count": 2,
   "metadata": {
    "id": "WvBgW7IkNbZg"
   },
   "outputs": [],
   "source": [
    "import nltk\n",
    "from nltk.corpus import stopwords\n",
    "from nltk.stem import PorterStemmer\n",
    "from nltk.stem import WordNetLemmatizer\n",
    "from nltk import pos_tag\n",
    "from sklearn.feature_extraction.text import TfidfVectorizer\n",
    "from sklearn.linear_model import LogisticRegression\n",
    "from sklearn.model_selection import train_test_split\n",
    "from scipy import sparse\n",
    "import re\n",
    "import numpy as np\n",
    "import math\n",
    "import pandas as pd\n",
    "from sklearn.metrics import classification_report, accuracy_score\n",
    "from sklearn.neural_network import MLPClassifier\n",
    "\n",
    "from sentence_transformers import SentenceTransformer\n",
    "from sklearn.svm import SVC\n",
    "import os\n",
    "import joblib\n",
    "import wordninja\n",
    "import spacy\n",
    "from sklearn.preprocessing import LabelEncoder\n",
    "import matplotlib.pyplot as plt\n",
    "import seaborn as sns\n",
    "from sklearn.metrics import confusion_matrix\n",
    "import glob\n"
   ]
  },
  {
   "cell_type": "code",
   "execution_count": 3,
   "metadata": {
    "colab": {
     "base_uri": "https://localhost:8080/"
    },
    "id": "O3DK490TOWDg",
    "outputId": "2da03c3f-eedb-4858-d6d0-6de78cd1d363"
   },
   "outputs": [
    {
     "name": "stderr",
     "output_type": "stream",
     "text": [
      "[nltk_data] Downloading package punkt to\n",
      "[nltk_data]     C:\\Users\\ASUS\\AppData\\Roaming\\nltk_data...\n",
      "[nltk_data]   Package punkt is already up-to-date!\n",
      "[nltk_data] Downloading package stopwords to\n",
      "[nltk_data]     C:\\Users\\ASUS\\AppData\\Roaming\\nltk_data...\n",
      "[nltk_data]   Package stopwords is already up-to-date!\n",
      "[nltk_data] Downloading package wordnet to\n",
      "[nltk_data]     C:\\Users\\ASUS\\AppData\\Roaming\\nltk_data...\n",
      "[nltk_data]   Package wordnet is already up-to-date!\n",
      "[nltk_data] Downloading package omw-1.4 to\n",
      "[nltk_data]     C:\\Users\\ASUS\\AppData\\Roaming\\nltk_data...\n",
      "[nltk_data]   Package omw-1.4 is already up-to-date!\n",
      "[nltk_data] Downloading package averaged_perceptron_tagger to\n",
      "[nltk_data]     C:\\Users\\ASUS\\AppData\\Roaming\\nltk_data...\n",
      "[nltk_data]   Package averaged_perceptron_tagger is already up-to-\n",
      "[nltk_data]       date!\n"
     ]
    },
    {
     "data": {
      "text/plain": [
       "True"
      ]
     },
     "execution_count": 3,
     "metadata": {},
     "output_type": "execute_result"
    }
   ],
   "source": [
    "nltk.download('punkt')                         \n",
    "nltk.download('stopwords')                     \n",
    "nltk.download('wordnet')                       \n",
    "nltk.download('omw-1.4')\n",
    "nltk.download('averaged_perceptron_tagger')"
   ]
  },
  {
   "cell_type": "code",
   "execution_count": 4,
   "metadata": {
    "id": "PbepnsaQNcRq"
   },
   "outputs": [],
   "source": [
    "def load_reddit_dataset(data_path, s_size=None, text_column=\"selftext\", label_column=\"subreddit\"):\n",
    "\n",
    "    csv_files = glob.glob(os.path.join(data_path, \"**\", \"*.csv\"), recursive=True)\n",
    "    print(f\"Found {len(csv_files)} CSV files.\")\n",
    "\n",
    "    all_dataframes = []\n",
    "    for file in csv_files:\n",
    "        try:\n",
    "            df = pd.read_csv(file)\n",
    "            all_dataframes.append(df)\n",
    "        except Exception as e:\n",
    "            print(f\"Error reading {file}: {e}\")\n",
    "\n",
    "    all_data = pd.concat(all_dataframes, ignore_index=True)\n",
    "    print(\"Total rows before cleaning:\", len(all_data))\n",
    "\n",
    "    clear_data = all_data.dropna(subset=[text_column, label_column])\n",
    "    print(\"Total rows after dropping NA:\", len(clear_data))\n",
    "\n",
    "    if s_size is not None:\n",
    "        grouped = clear_data.groupby(label_column)\n",
    "        eligible_groups = [name for name, group in grouped if len(group) >= s_size]\n",
    "        filtered_data = clear_data[clear_data[label_column].isin(eligible_groups)]\n",
    "        df_sampled = filtered_data.groupby(label_column).sample(n=s_size, random_state=42)\n",
    "        df_sampled = df_sampled.reset_index(drop=True)\n",
    "        print(\"Sampled class distribution:\")\n",
    "        print(df_sampled[label_column].value_counts())\n",
    "    else:\n",
    "        df_sampled = clear_data\n",
    "        print(\"Returned all available data without sampling.\")\n",
    "        print(df_sampled[label_column].value_counts())\n",
    "\n",
    "    return df_sampled[text_column], df_sampled[label_column]"
   ]
  },
  {
   "cell_type": "code",
   "execution_count": 5,
   "metadata": {
    "colab": {
     "base_uri": "https://localhost:8080/"
    },
    "id": "zvBENdrOPrbH",
    "outputId": "37f70204-c966-42bb-fb20-4b69c37ec103"
   },
   "outputs": [
    {
     "name": "stdout",
     "output_type": "stream",
     "text": [
      "Found 223 CSV files.\n",
      "Total rows before cleaning: 1852403\n",
      "Total rows after dropping NA: 1797816\n",
      "Sampled class distribution:\n",
      "subreddit\n",
      "Anxiety         100\n",
      "SuicideWatch    100\n",
      "depression      100\n",
      "lonely          100\n",
      "mentalhealth    100\n",
      "Name: count, dtype: int64\n"
     ]
    }
   ],
   "source": [
    "text_data, label_data = load_reddit_dataset(\"dataset\",s_size=100)\n"
   ]
  },
  {
   "cell_type": "code",
   "execution_count": 6,
   "metadata": {
    "colab": {
     "base_uri": "https://localhost:8080/"
    },
    "id": "zlu2alJcQHpe",
    "outputId": "573f5573-10f9-4535-e531-ff10c77d9fed"
   },
   "outputs": [
    {
     "name": "stdout",
     "output_type": "stream",
     "text": [
      "A few weeks ago, I finally caved and called my doctor to get back on my anxiety medicine after my anxiety got so bad that I was having panic attacks whenever I left the house. I cried picking it up. I was so ready to feel normal again. \n",
      "\n",
      "Well last night I went to the store and felt an anxiety attack coming. Instead of spiraling out of control like I have been, I was easily able to calm down. I can't share this with anyone else so I thought to post it here. I am so happy that I was able to finish shopping and that I didn't end up with a panic attack. \n",
      "\n",
      "I don't know why I waited so long to go back on my medicine.\n"
     ]
    }
   ],
   "source": [
    "print(text_data.iloc[0])\n"
   ]
  },
  {
   "cell_type": "code",
   "execution_count": 7,
   "metadata": {
    "colab": {
     "base_uri": "https://localhost:8080/",
     "height": 122
    },
    "id": "lUSBv2m-NcT9",
    "outputId": "462afca7-3ac3-41e8-a2a7-d0154c135542"
   },
   "outputs": [
    {
     "data": {
      "text/plain": [
       "'A few weeks ago I finally caved and called my doctor to get back on my anxiety medicine after my anxiety got so bad that I was having panic attacks whenever I left the house I cried picking it up I was so ready to feel normal again \\n\\nWell last night I went to the store and felt an anxiety attack coming Instead of spiraling out of control like I have been I was easily able to calm down I cant share this with anyone else so I thought to post it here I am so happy that I was able to finish shopping and that I didnt end up with a panic attack \\n\\nI dont know why I waited so long to go back on my medicine'"
      ]
     },
     "execution_count": 7,
     "metadata": {},
     "output_type": "execute_result"
    }
   ],
   "source": [
    "def clean_data(data):\n",
    "    html_regex = re.compile(\"<.*?>\")\n",
    "    num_regex = re.compile(\"\\d+\")\n",
    "    pun_re = re.compile(\"[^\\w\\s]\")\n",
    "\n",
    "    cleaned_data = []\n",
    "\n",
    "    for text in data:\n",
    "        text = re.sub(html_regex, '', text)\n",
    "\n",
    "        urls = re.findall(r'https?://\\S+|www\\.\\S+', text)\n",
    "        for url in urls:\n",
    "            tokens = re.findall(r'[a-zA-Z]{4,}', url)\n",
    "            if len(tokens) >= 3:\n",
    "                text = text.replace(url, ' '.join(tokens))\n",
    "            else:\n",
    "                text = text.replace(url, '[URL]')\n",
    "\n",
    "        text = re.sub(num_regex, '', text)\n",
    "\n",
    "        text = re.sub(pun_re, '', text)\n",
    "\n",
    "        cleaned_data.append(text)\n",
    "\n",
    "    return cleaned_data\n",
    "\n",
    "\n",
    "\n",
    "text_data01 = clean_data(text_data)\n",
    "\n",
    "text_data01[0]"
   ]
  },
  {
   "cell_type": "code",
   "execution_count": 8,
   "metadata": {
    "id": "h0r06_0dNcV7"
   },
   "outputs": [
    {
     "data": {
      "text/plain": [
       "['A',\n",
       " 'few',\n",
       " 'weeks',\n",
       " 'ago',\n",
       " 'I',\n",
       " 'finally',\n",
       " 'caved',\n",
       " 'and',\n",
       " 'called',\n",
       " 'my',\n",
       " 'doctor',\n",
       " 'to',\n",
       " 'get',\n",
       " 'back',\n",
       " 'on',\n",
       " 'my',\n",
       " 'anxiety',\n",
       " 'medicine',\n",
       " 'after',\n",
       " 'my',\n",
       " 'anxiety',\n",
       " 'got',\n",
       " 'so',\n",
       " 'bad',\n",
       " 'that',\n",
       " 'I',\n",
       " 'was',\n",
       " 'having',\n",
       " 'panic',\n",
       " 'attacks',\n",
       " 'whenever',\n",
       " 'I',\n",
       " 'left',\n",
       " 'the',\n",
       " 'house',\n",
       " 'I',\n",
       " 'cried',\n",
       " 'picking',\n",
       " 'it',\n",
       " 'up',\n",
       " 'I',\n",
       " 'was',\n",
       " 'so',\n",
       " 'ready',\n",
       " 'to',\n",
       " 'feel',\n",
       " 'normal',\n",
       " 'again',\n",
       " 'Well',\n",
       " 'last',\n",
       " 'night',\n",
       " 'I',\n",
       " 'went',\n",
       " 'to',\n",
       " 'the',\n",
       " 'store',\n",
       " 'and',\n",
       " 'felt',\n",
       " 'an',\n",
       " 'anxiety',\n",
       " 'attack',\n",
       " 'coming',\n",
       " 'Instead',\n",
       " 'of',\n",
       " 'spiraling',\n",
       " 'out',\n",
       " 'of',\n",
       " 'control',\n",
       " 'like',\n",
       " 'I',\n",
       " 'have',\n",
       " 'been',\n",
       " 'I',\n",
       " 'was',\n",
       " 'easily',\n",
       " 'able',\n",
       " 'to',\n",
       " 'calm',\n",
       " 'down',\n",
       " 'I',\n",
       " 'cant',\n",
       " 'share',\n",
       " 'this',\n",
       " 'with',\n",
       " 'anyone',\n",
       " 'else',\n",
       " 'so',\n",
       " 'I',\n",
       " 'thought',\n",
       " 'to',\n",
       " 'post',\n",
       " 'it',\n",
       " 'here',\n",
       " 'I',\n",
       " 'am',\n",
       " 'so',\n",
       " 'happy',\n",
       " 'that',\n",
       " 'I',\n",
       " 'was',\n",
       " 'able',\n",
       " 'to',\n",
       " 'finish',\n",
       " 'shopping',\n",
       " 'and',\n",
       " 'that',\n",
       " 'I',\n",
       " 'didnt',\n",
       " 'end',\n",
       " 'up',\n",
       " 'with',\n",
       " 'a',\n",
       " 'panic',\n",
       " 'attack',\n",
       " 'I',\n",
       " 'dont',\n",
       " 'know',\n",
       " 'why',\n",
       " 'I',\n",
       " 'waited',\n",
       " 'so',\n",
       " 'long',\n",
       " 'to',\n",
       " 'go',\n",
       " 'back',\n",
       " 'on',\n",
       " 'my',\n",
       " 'medicine']"
      ]
     },
     "execution_count": 8,
     "metadata": {},
     "output_type": "execute_result"
    }
   ],
   "source": [
    "def splited_data(data):\n",
    "    temp_data = []\n",
    "    for corpus in data:\n",
    "        words = \" \".join(corpus.split()).split()\n",
    "        fixed_words = []\n",
    "\n",
    "        for word in words:\n",
    "            if len(word) > 30:\n",
    "                split_words = wordninja.split(word)\n",
    "                fixed_words.extend(split_words)\n",
    "            else:\n",
    "                fixed_words.append(word)\n",
    "\n",
    "        temp_data.append(fixed_words)\n",
    "\n",
    "    return temp_data\n",
    "\n",
    "\n",
    "\n",
    "text_data02 = splited_data(text_data01)\n",
    "\n",
    "text_data02[0]"
   ]
  },
  {
   "cell_type": "code",
   "execution_count": 9,
   "metadata": {
    "id": "dWDV41I-NcYV"
   },
   "outputs": [
    {
     "data": {
      "text/plain": [
       "['a',\n",
       " 'few',\n",
       " 'weeks',\n",
       " 'ago',\n",
       " 'i',\n",
       " 'finally',\n",
       " 'caved',\n",
       " 'and',\n",
       " 'called',\n",
       " 'my',\n",
       " 'doctor',\n",
       " 'to',\n",
       " 'get',\n",
       " 'back',\n",
       " 'on',\n",
       " 'my',\n",
       " 'anxiety',\n",
       " 'medicine',\n",
       " 'after',\n",
       " 'my',\n",
       " 'anxiety',\n",
       " 'got',\n",
       " 'so',\n",
       " 'bad',\n",
       " 'that',\n",
       " 'i',\n",
       " 'was',\n",
       " 'having',\n",
       " 'panic',\n",
       " 'attacks',\n",
       " 'whenever',\n",
       " 'i',\n",
       " 'left',\n",
       " 'the',\n",
       " 'house',\n",
       " 'i',\n",
       " 'cried',\n",
       " 'picking',\n",
       " 'it',\n",
       " 'up',\n",
       " 'i',\n",
       " 'was',\n",
       " 'so',\n",
       " 'ready',\n",
       " 'to',\n",
       " 'feel',\n",
       " 'normal',\n",
       " 'again',\n",
       " 'well',\n",
       " 'last',\n",
       " 'night',\n",
       " 'i',\n",
       " 'went',\n",
       " 'to',\n",
       " 'the',\n",
       " 'store',\n",
       " 'and',\n",
       " 'felt',\n",
       " 'an',\n",
       " 'anxiety',\n",
       " 'attack',\n",
       " 'coming',\n",
       " 'instead',\n",
       " 'of',\n",
       " 'spiraling',\n",
       " 'out',\n",
       " 'of',\n",
       " 'control',\n",
       " 'like',\n",
       " 'i',\n",
       " 'have',\n",
       " 'been',\n",
       " 'i',\n",
       " 'was',\n",
       " 'easily',\n",
       " 'able',\n",
       " 'to',\n",
       " 'calm',\n",
       " 'down',\n",
       " 'i',\n",
       " 'cant',\n",
       " 'share',\n",
       " 'this',\n",
       " 'with',\n",
       " 'anyone',\n",
       " 'else',\n",
       " 'so',\n",
       " 'i',\n",
       " 'thought',\n",
       " 'to',\n",
       " 'post',\n",
       " 'it',\n",
       " 'here',\n",
       " 'i',\n",
       " 'am',\n",
       " 'so',\n",
       " 'happy',\n",
       " 'that',\n",
       " 'i',\n",
       " 'was',\n",
       " 'able',\n",
       " 'to',\n",
       " 'finish',\n",
       " 'shopping',\n",
       " 'and',\n",
       " 'that',\n",
       " 'i',\n",
       " 'didnt',\n",
       " 'end',\n",
       " 'up',\n",
       " 'with',\n",
       " 'a',\n",
       " 'panic',\n",
       " 'attack',\n",
       " 'i',\n",
       " 'dont',\n",
       " 'know',\n",
       " 'why',\n",
       " 'i',\n",
       " 'waited',\n",
       " 'so',\n",
       " 'long',\n",
       " 'to',\n",
       " 'go',\n",
       " 'back',\n",
       " 'on',\n",
       " 'my',\n",
       " 'medicine']"
      ]
     },
     "execution_count": 9,
     "metadata": {},
     "output_type": "execute_result"
    }
   ],
   "source": [
    "def lowercase(data):\n",
    "    data_lowercase = []\n",
    "\n",
    "    for corpus in data:\n",
    "        temp_list = []\n",
    "        for word in corpus:\n",
    "            temp = word.lower()\n",
    "            temp_list.append(temp)\n",
    "\n",
    "        data_lowercase.append(temp_list)\n",
    "\n",
    "    return data_lowercase\n",
    "\n",
    "text_data03 = lowercase(text_data02)\n",
    "\n",
    "\n",
    "text_data03[0]"
   ]
  },
  {
   "cell_type": "code",
   "execution_count": 10,
   "metadata": {
    "id": "XRfta8aMNca5"
   },
   "outputs": [
    {
     "data": {
      "text/plain": [
       "['weeks',\n",
       " 'ago',\n",
       " 'finally',\n",
       " 'caved',\n",
       " 'called',\n",
       " 'doctor',\n",
       " 'get',\n",
       " 'back',\n",
       " 'anxiety',\n",
       " 'medicine',\n",
       " 'anxiety',\n",
       " 'got',\n",
       " 'bad',\n",
       " 'panic',\n",
       " 'attacks',\n",
       " 'whenever',\n",
       " 'left',\n",
       " 'house',\n",
       " 'cried',\n",
       " 'picking',\n",
       " 'ready',\n",
       " 'feel',\n",
       " 'normal',\n",
       " 'well',\n",
       " 'last',\n",
       " 'night',\n",
       " 'went',\n",
       " 'store',\n",
       " 'felt',\n",
       " 'anxiety',\n",
       " 'attack',\n",
       " 'coming',\n",
       " 'instead',\n",
       " 'spiraling',\n",
       " 'control',\n",
       " 'like',\n",
       " 'easily',\n",
       " 'able',\n",
       " 'calm',\n",
       " 'cant',\n",
       " 'share',\n",
       " 'anyone',\n",
       " 'else',\n",
       " 'thought',\n",
       " 'post',\n",
       " 'happy',\n",
       " 'able',\n",
       " 'finish',\n",
       " 'shopping',\n",
       " 'didnt',\n",
       " 'end',\n",
       " 'panic',\n",
       " 'attack',\n",
       " 'dont',\n",
       " 'know',\n",
       " 'waited',\n",
       " 'long',\n",
       " 'go',\n",
       " 'back',\n",
       " 'medicine']"
      ]
     },
     "execution_count": 10,
     "metadata": {},
     "output_type": "execute_result"
    }
   ],
   "source": [
    "def remove_stopwords(data):\n",
    "\n",
    "    res_data = []\n",
    "    for corpus in data:\n",
    "        temp_list=[]\n",
    "        for word in corpus:\n",
    "            if word not in stopwords.words(\"english\") :\n",
    "                temp_list.append(word)\n",
    "\n",
    "        res_data.append(temp_list)\n",
    "\n",
    "    return res_data\n",
    "text_data04 = remove_stopwords(text_data03)\n",
    "\n",
    "\n",
    "\n",
    "text_data04[0]"
   ]
  },
  {
   "cell_type": "code",
   "execution_count": 11,
   "metadata": {
    "id": "Htv92vJONceY"
   },
   "outputs": [],
   "source": [
    "nlp = spacy.load(\"en_core_web_sm\")\n",
    "\n",
    "def pos_spacy(data):\n",
    "  \n",
    "    pos_list = []\n",
    "    for tokens in data:\n",
    "        doc = nlp(\" \".join(tokens))\n",
    "        pos_tags = [(token.text, token.pos_) for token in doc]\n",
    "        pos_list.append(pos_tags)\n",
    "    return pos_list\n",
    "\n",
    "\n",
    "text_data06 = pos_spacy(text_data04)\n"
   ]
  },
  {
   "cell_type": "code",
   "execution_count": 12,
   "metadata": {
    "id": "AkMG8cll3i1a"
   },
   "outputs": [
    {
     "data": {
      "text/plain": [
       "[('weeks', 'NOUN'),\n",
       " ('ago', 'ADV'),\n",
       " ('finally', 'ADV'),\n",
       " ('caved', 'VERB'),\n",
       " ('called', 'VERB'),\n",
       " ('doctor', 'NOUN'),\n",
       " ('get', 'VERB'),\n",
       " ('back', 'ADV'),\n",
       " ('anxiety', 'NOUN'),\n",
       " ('medicine', 'NOUN'),\n",
       " ('anxiety', 'NOUN'),\n",
       " ('got', 'VERB'),\n",
       " ('bad', 'ADJ'),\n",
       " ('panic', 'NOUN'),\n",
       " ('attacks', 'NOUN'),\n",
       " ('whenever', 'SCONJ'),\n",
       " ('left', 'ADJ'),\n",
       " ('house', 'PROPN'),\n",
       " ('cried', 'VERB'),\n",
       " ('picking', 'VERB'),\n",
       " ('ready', 'ADJ'),\n",
       " ('feel', 'VERB'),\n",
       " ('normal', 'ADJ'),\n",
       " ('well', 'ADV'),\n",
       " ('last', 'ADJ'),\n",
       " ('night', 'NOUN'),\n",
       " ('went', 'VERB'),\n",
       " ('store', 'NOUN'),\n",
       " ('felt', 'VERB'),\n",
       " ('anxiety', 'NOUN'),\n",
       " ('attack', 'NOUN'),\n",
       " ('coming', 'VERB'),\n",
       " ('instead', 'ADV'),\n",
       " ('spiraling', 'VERB'),\n",
       " ('control', 'NOUN'),\n",
       " ('like', 'ADP'),\n",
       " ('easily', 'ADV'),\n",
       " ('able', 'ADJ'),\n",
       " ('calm', 'NOUN'),\n",
       " ('ca', 'AUX'),\n",
       " ('nt', 'PART'),\n",
       " ('share', 'VERB'),\n",
       " ('anyone', 'PRON'),\n",
       " ('else', 'ADV'),\n",
       " ('thought', 'VERB'),\n",
       " ('post', 'VERB'),\n",
       " ('happy', 'ADJ'),\n",
       " ('able', 'ADJ'),\n",
       " ('finish', 'NOUN'),\n",
       " ('shopping', 'NOUN'),\n",
       " ('did', 'AUX'),\n",
       " ('nt', 'PART'),\n",
       " ('end', 'VERB'),\n",
       " ('panic', 'NOUN'),\n",
       " ('attack', 'NOUN'),\n",
       " ('do', 'AUX'),\n",
       " ('nt', 'PART'),\n",
       " ('know', 'VERB'),\n",
       " ('waited', 'VERB'),\n",
       " ('long', 'ADV'),\n",
       " ('go', 'VERB'),\n",
       " ('back', 'ADV'),\n",
       " ('medicine', 'NOUN')]"
      ]
     },
     "execution_count": 12,
     "metadata": {},
     "output_type": "execute_result"
    }
   ],
   "source": [
    "text_data06[0]"
   ]
  },
  {
   "cell_type": "code",
   "execution_count": 13,
   "metadata": {
    "id": "YEzuAAV9Viqt"
   },
   "outputs": [],
   "source": [
    "def fix_negations(data):\n",
    "    fixed_data = []\n",
    "    negation_starters = ['ca', 'do', 'did', 'wo', 'sha', 'is', 'was', 'would', 'could', 'should', 'might', 'must']\n",
    "\n",
    "    i = 0\n",
    "    while i < len(data):\n",
    "        if (i + 1 < len(data) and\n",
    "            data[i][0].lower() in negation_starters and\n",
    "            data[i+1][0].lower() == 'nt'):\n",
    "            \n",
    "            combined_word = data[i][0] + \"n't\"\n",
    "            fixed_data.append((combined_word, data[i][1]))\n",
    "            i += 2\n",
    "        else:\n",
    "            fixed_data.append(data[i])\n",
    "            i += 1\n",
    "\n",
    "    return fixed_data\n",
    "\n",
    "def lemmatizing(data):\n",
    "    wnl = WordNetLemmatizer()\n",
    "    lemmatize_data = []\n",
    "\n",
    "    tag = {\n",
    "        \"NOUN\": \"n\",\n",
    "        \"VERB\": \"v\",\n",
    "        \"ADJ\": \"a\",\n",
    "        \"ADV\": \"r\"\n",
    "    }\n",
    "\n",
    "    for corpus in data:\n",
    "        corpus_fixed = fix_negations(corpus)\n",
    "        temp_list = []\n",
    "\n",
    "        for word in corpus_fixed:\n",
    "            pos_tag = tag.get(word[1], None)\n",
    "            if pos_tag:\n",
    "                lemma = wnl.lemmatize(word[0], pos=pos_tag)\n",
    "            else:\n",
    "                lemma = word[0]\n",
    "            temp_list.append(lemma)\n",
    "\n",
    "        lemmatize_data.append(temp_list)\n",
    "\n",
    "    return lemmatize_data\n",
    "\n",
    "text_data07 = lemmatizing(text_data06)"
   ]
  },
  {
   "cell_type": "code",
   "execution_count": 14,
   "metadata": {
    "id": "VZUVvhR-xRFh"
   },
   "outputs": [
    {
     "data": {
      "text/plain": [
       "['week',\n",
       " 'ago',\n",
       " 'finally',\n",
       " 'cave',\n",
       " 'call',\n",
       " 'doctor',\n",
       " 'get',\n",
       " 'back',\n",
       " 'anxiety',\n",
       " 'medicine',\n",
       " 'anxiety',\n",
       " 'get',\n",
       " 'bad',\n",
       " 'panic',\n",
       " 'attack',\n",
       " 'whenever',\n",
       " 'left',\n",
       " 'house',\n",
       " 'cry',\n",
       " 'pick',\n",
       " 'ready',\n",
       " 'feel',\n",
       " 'normal',\n",
       " 'well',\n",
       " 'last',\n",
       " 'night',\n",
       " 'go',\n",
       " 'store',\n",
       " 'felt',\n",
       " 'anxiety',\n",
       " 'attack',\n",
       " 'come',\n",
       " 'instead',\n",
       " 'spiral',\n",
       " 'control',\n",
       " 'like',\n",
       " 'easily',\n",
       " 'able',\n",
       " 'calm',\n",
       " \"can't\",\n",
       " 'share',\n",
       " 'anyone',\n",
       " 'else',\n",
       " 'think',\n",
       " 'post',\n",
       " 'happy',\n",
       " 'able',\n",
       " 'finish',\n",
       " 'shopping',\n",
       " \"didn't\",\n",
       " 'end',\n",
       " 'panic',\n",
       " 'attack',\n",
       " \"don't\",\n",
       " 'know',\n",
       " 'wait',\n",
       " 'long',\n",
       " 'go',\n",
       " 'back',\n",
       " 'medicine']"
      ]
     },
     "execution_count": 14,
     "metadata": {},
     "output_type": "execute_result"
    }
   ],
   "source": [
    "text_data07[0]"
   ]
  },
  {
   "cell_type": "code",
   "execution_count": 15,
   "metadata": {
    "id": "HATxARt34cgt"
   },
   "outputs": [],
   "source": [
    "sbert_model = SentenceTransformer('paraphrase-MiniLM-L6-v2')  \n",
    "\n",
    "def vectorize_sbert(text_data):\n",
    "\n",
    "    joined_sentences = [\" \".join(tokens) for tokens in text_data]\n",
    "    embeddings = sbert_model.encode(joined_sentences, show_progress_bar=True)\n",
    "    return embeddings\n"
   ]
  },
  {
   "cell_type": "code",
   "execution_count": 16,
   "metadata": {
    "id": "FCV709014crI"
   },
   "outputs": [
    {
     "data": {
      "application/vnd.jupyter.widget-view+json": {
       "model_id": "cc20173f5cbb44038aa761ee274af6ac",
       "version_major": 2,
       "version_minor": 0
      },
      "text/plain": [
       "Batches:   0%|          | 0/16 [00:00<?, ?it/s]"
      ]
     },
     "metadata": {},
     "output_type": "display_data"
    },
    {
     "name": "stdout",
     "output_type": "stream",
     "text": [
      "SBERT shape: (500, 384)\n"
     ]
    }
   ],
   "source": [
    "X_sbert = vectorize_sbert(text_data07)\n",
    "print(\"SBERT shape:\", X_sbert.shape)"
   ]
  },
  {
   "cell_type": "code",
   "execution_count": 17,
   "metadata": {
    "id": "DdNK-JWz4cvm"
   },
   "outputs": [],
   "source": [
    "def prepare_data(X, labels, test_size=0.2, random_state=42):\n",
    "\n",
    "    encoder = LabelEncoder()\n",
    "    y = encoder.fit_transform(labels)\n",
    "\n",
    "    X_train, X_test, y_train, y_test = train_test_split(\n",
    "        X, y, test_size=test_size, random_state=random_state, stratify=y\n",
    "    )\n",
    "\n",
    "    return X_train, X_test, y_train, y_test, encoder\n"
   ]
  },
  {
   "cell_type": "code",
   "execution_count": 18,
   "metadata": {
    "id": "GMN2HjG48E9F"
   },
   "outputs": [
    {
     "name": "stdout",
     "output_type": "stream",
     "text": [
      "SBERT: (400, 384) (100, 384)\n",
      "Label classes: ['Anxiety' 'SuicideWatch' 'depression' 'lonely' 'mentalhealth']\n"
     ]
    }
   ],
   "source": [
    "X_train_sbert, X_test_sbert, y_train_sbert, y_test_sbert, enc_sbert = prepare_data(X_sbert, label_data)\n",
    "\n",
    "print(\"SBERT:\", X_train_sbert.shape, X_test_sbert.shape)\n",
    "print(\"Label classes:\", enc_sbert.classes_)\n"
   ]
  },
  {
   "cell_type": "code",
   "execution_count": 19,
   "metadata": {
    "id": "BZhhxDtz4c0H"
   },
   "outputs": [],
   "source": [
    "def train_sbert_models(X_train, X_test, y_train, y_test):\n",
    "    print(\"🔹 SBERT → Logistic Regression\")\n",
    "    model_lr = LogisticRegression(max_iter=100)\n",
    "    model_lr.fit(X_train, y_train)\n",
    "    preds_lr = model_lr.predict(X_test)\n",
    "    print(\"Accuracy:\", accuracy_score(y_test, preds_lr))\n",
    "    print(classification_report(y_test, preds_lr))\n",
    "\n",
    "    print(\"🔹 SBERT → MLPClassifier\")\n",
    "    model_mlp = MLPClassifier(hidden_layer_sizes=(128,), max_iter=500, random_state=42)\n",
    "    model_mlp.fit(X_train, y_train)\n",
    "    preds_mlp = model_mlp.predict(X_test)\n",
    "    print(\"Accuracy:\", accuracy_score(y_test, preds_mlp))\n",
    "    print(classification_report(y_test, preds_mlp))\n",
    "\n",
    "    return model_lr, model_mlp   \n"
   ]
  },
  {
   "cell_type": "code",
   "execution_count": 20,
   "metadata": {
    "id": "7MgU_CUF4c2P"
   },
   "outputs": [
    {
     "name": "stdout",
     "output_type": "stream",
     "text": [
      "🔹 SBERT → Logistic Regression\n",
      "Accuracy: 0.42\n",
      "              precision    recall  f1-score   support\n",
      "\n",
      "           0       0.50      0.55      0.52        20\n",
      "           1       0.60      0.30      0.40        20\n",
      "           2       0.28      0.40      0.33        20\n",
      "           3       0.45      0.45      0.45        20\n",
      "           4       0.42      0.40      0.41        20\n",
      "\n",
      "    accuracy                           0.42       100\n",
      "   macro avg       0.45      0.42      0.42       100\n",
      "weighted avg       0.45      0.42      0.42       100\n",
      "\n",
      "🔹 SBERT → MLPClassifier\n"
     ]
    },
    {
     "name": "stderr",
     "output_type": "stream",
     "text": [
      "C:\\ProgramData\\Anaconda3\\envs\\nlp_env\\Lib\\site-packages\\sklearn\\linear_model\\_logistic.py:465: ConvergenceWarning: lbfgs failed to converge (status=1):\n",
      "STOP: TOTAL NO. OF ITERATIONS REACHED LIMIT.\n",
      "\n",
      "Increase the number of iterations (max_iter) or scale the data as shown in:\n",
      "    https://scikit-learn.org/stable/modules/preprocessing.html\n",
      "Please also refer to the documentation for alternative solver options:\n",
      "    https://scikit-learn.org/stable/modules/linear_model.html#logistic-regression\n",
      "  n_iter_i = _check_optimize_result(\n"
     ]
    },
    {
     "name": "stdout",
     "output_type": "stream",
     "text": [
      "Accuracy: 0.43\n",
      "              precision    recall  f1-score   support\n",
      "\n",
      "           0       0.48      0.50      0.49        20\n",
      "           1       0.50      0.35      0.41        20\n",
      "           2       0.32      0.40      0.36        20\n",
      "           3       0.45      0.50      0.48        20\n",
      "           4       0.44      0.40      0.42        20\n",
      "\n",
      "    accuracy                           0.43       100\n",
      "   macro avg       0.44      0.43      0.43       100\n",
      "weighted avg       0.44      0.43      0.43       100\n",
      "\n"
     ]
    }
   ],
   "source": [
    "model_lr_sbert, model_mlp_sbert = train_sbert_models(X_train_sbert, X_test_sbert, y_train_sbert, y_test_sbert)"
   ]
  },
  {
   "cell_type": "code",
   "execution_count": 21,
   "metadata": {
    "id": "DYizvxiP4c4c"
   },
   "outputs": [],
   "source": [
    "def evaluate_model(model, X_test, y_test, encoder, model_name=\"Model\"):\n",
    "    preds = model.predict(X_test)\n",
    "    acc = accuracy_score(y_test, preds)\n",
    "    print(f\"🔍 {model_name} Accuracy:\", acc)\n",
    "    print(classification_report(y_test, preds, target_names=encoder.classes_))\n",
    "\n",
    "    cm = confusion_matrix(y_test, preds)\n",
    "    plt.figure(figsize=(10, 6))\n",
    "    sns.heatmap(cm, annot=True, fmt='d', cmap='Blues',\n",
    "                xticklabels=encoder.classes_, yticklabels=encoder.classes_)\n",
    "    plt.title(f'Confusion Matrix - {model_name}')\n",
    "    plt.xlabel('Predicted')\n",
    "    plt.ylabel('True')\n",
    "    plt.show()\n"
   ]
  },
  {
   "cell_type": "code",
   "execution_count": 22,
   "metadata": {
    "id": "vNZtdtII4c-j"
   },
   "outputs": [],
   "source": [
    "def save_model(model, model_name, save_dir=\"saved_models\"):\n",
    "    os.makedirs(save_dir, exist_ok=True)  \n",
    "    path = os.path.join(save_dir, f\"{model_name}.joblib\")\n",
    "    joblib.dump(model, path)\n",
    "    print(f\"✅ Model saved to: {path}\")"
   ]
  },
  {
   "cell_type": "code",
   "execution_count": 23,
   "metadata": {
    "id": "bBw0z5COChDg"
   },
   "outputs": [
    {
     "name": "stdout",
     "output_type": "stream",
     "text": [
      "🔍 SBERT-LogReg Accuracy: 0.42\n",
      "              precision    recall  f1-score   support\n",
      "\n",
      "     Anxiety       0.50      0.55      0.52        20\n",
      "SuicideWatch       0.60      0.30      0.40        20\n",
      "  depression       0.28      0.40      0.33        20\n",
      "      lonely       0.45      0.45      0.45        20\n",
      "mentalhealth       0.42      0.40      0.41        20\n",
      "\n",
      "    accuracy                           0.42       100\n",
      "   macro avg       0.45      0.42      0.42       100\n",
      "weighted avg       0.45      0.42      0.42       100\n",
      "\n"
     ]
    },
    {
     "data": {
      "image/png": "[encoded data removed]",
      "text/plain": [
       "<Figure size 1000x600 with 2 Axes>"
      ]
     },
     "metadata": {},
     "output_type": "display_data"
    },
    {
     "name": "stdout",
     "output_type": "stream",
     "text": [
      "✅ Model saved to: saved_models\\SBERT_LogisticRegression.joblib\n",
      "🔍 SBERT-MLP Accuracy: 0.43\n",
      "              precision    recall  f1-score   support\n",
      "\n",
      "     Anxiety       0.48      0.50      0.49        20\n",
      "SuicideWatch       0.50      0.35      0.41        20\n",
      "  depression       0.32      0.40      0.36        20\n",
      "      lonely       0.45      0.50      0.48        20\n",
      "mentalhealth       0.44      0.40      0.42        20\n",
      "\n",
      "    accuracy                           0.43       100\n",
      "   macro avg       0.44      0.43      0.43       100\n",
      "weighted avg       0.44      0.43      0.43       100\n",
      "\n"
     ]
    },
    {
     "data": {
      "image/png": "[encoded data removed]",
      "text/plain": [
       "<Figure size 1000x600 with 2 Axes>"
      ]
     },
     "metadata": {},
     "output_type": "display_data"
    },
    {
     "name": "stdout",
     "output_type": "stream",
     "text": [
      "✅ Model saved to: saved_models\\SBERT_MLP.joblib\n"
     ]
    }
   ],
   "source": [
    "evaluate_model(model_lr_sbert, X_test_sbert, y_test_sbert, enc_sbert, \"SBERT-LogReg\")\n",
    "save_model(model_lr_sbert, \"SBERT_LogisticRegression\")\n",
    "\n",
    "evaluate_model(model_mlp_sbert, X_test_sbert, y_test_sbert, enc_sbert, \"SBERT-MLP\")\n",
    "save_model(model_mlp_sbert, \"SBERT_MLP\")"
   ]
  },
  {
   "cell_type": "code",
   "execution_count": null,
   "metadata": {
    "id": "5laoEfJ-Csm5"
   },
   "outputs": [],
   "source": []
  }
 ],
 "metadata": {
  "colab": {
   "provenance": []
  },
  "kernelspec": {
   "display_name": "Python (nlp_env)",
   "language": "python",
   "name": "nlp_env"
  },
  "language_info": {
   "codemirror_mode": {
    "name": "ipython",
    "version": 3
   },
   "file_extension": ".py",
   "mimetype": "text/x-python",
   "name": "python",
   "nbconvert_exporter": "python",
   "pygments_lexer": "ipython3",
   "version": "3.11.11"
  }
 },
 "nbformat": 4,
 "nbformat_minor": 4
}
